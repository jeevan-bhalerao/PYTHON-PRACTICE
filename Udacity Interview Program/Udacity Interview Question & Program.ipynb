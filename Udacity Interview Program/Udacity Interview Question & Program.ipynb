{
 "cells": [
  {
   "cell_type": "markdown",
   "metadata": {},
   "source": [
    "<h1>Pallindrome</h1>"
   ]
  },
  {
   "cell_type": "code",
   "execution_count": 14,
   "metadata": {},
   "outputs": [
    {
     "name": "stdout",
     "output_type": "stream",
     "text": [
      "False\n",
      "True\n"
     ]
    }
   ],
   "source": [
    "#Palindrome abc -> cba\n",
    "#           aba -> aba\n",
    "\n",
    "def reverse_string(s):\n",
    "    result = \"\"\n",
    "    for c in s:\n",
    "        result = c + result\n",
    "    return result\n",
    "\n",
    "def is_palindrome(s):\n",
    "    return s == reverse_string(s)\n",
    "\n",
    "\n",
    "print(is_palindrome(\"abc\"))\n",
    "print(is_palindrome(\"aba\"))"
   ]
  },
  {
   "cell_type": "markdown",
   "metadata": {},
   "source": [
    "<h1>Removw Duplicate</h1>"
   ]
  },
  {
   "cell_type": "code",
   "execution_count": 15,
   "metadata": {},
   "outputs": [
    {
     "name": "stdout",
     "output_type": "stream",
     "text": [
      "[1, 2, 4, 5, 6]\n"
     ]
    }
   ],
   "source": [
    "# input = [1, 2, 1, 4, 5, 6, 6] ... output [1,2,4,5,6]\n",
    "\n",
    "def remove_duplicates(l):# worst case [1,2,4,5,6]\n",
    "    result = {}\n",
    "    for val in l: # n times\n",
    "        if not val in result: # 1, 2, 3, 4 ... n - 1 # Balanced tree as a result  we would get n * log n\n",
    "            result[val] = 1 #(n * n - 1) /2 = O(n squared)\n",
    "    return list(result.keys()) # n times 1 (dont count colisions)\n",
    "\n",
    "print(remove_duplicates([1, 2, 1, 4, 5, 6, 6]))\n",
    "    "
   ]
  },
  {
   "cell_type": "markdown",
   "metadata": {},
   "source": [
    "### Count Charector"
   ]
  },
  {
   "cell_type": "code",
   "execution_count": 16,
   "metadata": {},
   "outputs": [
    {
     "name": "stdout",
     "output_type": "stream",
     "text": [
      "a 2\n",
      "b 3\n",
      "s 1\n",
      "d 2\n"
     ]
    }
   ],
   "source": [
    "# aabsbddb ... a = 2, b = 3, s = 1, d = 2\n",
    "\n",
    "def count_characters(s):\n",
    "    result = {}\n",
    "    for c in s:\n",
    "        result[c] = result.get(c, 0) + 1\n",
    "    for key, value in result.items():\n",
    "        print(key, value)\n",
    "    #return result\n",
    "\n",
    "count_characters('aabsbddb')"
   ]
  },
  {
   "cell_type": "markdown",
   "metadata": {},
   "source": [
    "## Check Subset"
   ]
  },
  {
   "cell_type": "code",
   "execution_count": 17,
   "metadata": {},
   "outputs": [
    {
     "name": "stdout",
     "output_type": "stream",
     "text": [
      "False\n"
     ]
    }
   ],
   "source": [
    "# [1, 2, 4, 7, \"a\"] [\" b\", \"a\", 1, 2, 7, 3, 4] = true\n",
    "\n",
    "def is_subset(L1, L2):\n",
    "    temp = dict([(e, 1) for e in L2])\n",
    "    for e in L1: #n \n",
    "        if not e in temp: # n n  \n",
    "            return False\n",
    "    return True\n",
    "\n",
    "print(is_subset([1, 2, 4, 7, \"c\"], [\" b\", \"a\", 1, 2, 7, 3, 4]))"
   ]
  },
  {
   "cell_type": "markdown",
   "metadata": {},
   "source": [
    "## Random Print"
   ]
  },
  {
   "cell_type": "code",
   "execution_count": 18,
   "metadata": {},
   "outputs": [
    {
     "name": "stdout",
     "output_type": "stream",
     "text": [
      "1 0\n",
      "3 0\n",
      "2 1\n",
      "6 0\n",
      "7 2\n",
      "4 0\n",
      "5 0\n"
     ]
    }
   ],
   "source": [
    "#n = 100\n",
    "# \n",
    "import random\n",
    "def print_random_del(l):\n",
    "    for i in range(len(l),0,-1):\n",
    "        index_to_delete = random.randint(0, i - 1)\n",
    "        print(l[index_to_delete], index_to_delete)\n",
    "        del l[index_to_delete]\n",
    "        \n",
    "def print_random(l):\n",
    "    for i in range(len(l),0,-1):\n",
    "        index_to_delete = random.randint(0, i - 1)\n",
    "        print(l[index_to_delete], index_to_delete)\n",
    "        l[index_to_delete] = l[i - 1]\n",
    "\n",
    "print_random([1, 2, 7, 4,5, 6, 3])"
   ]
  },
  {
   "cell_type": "markdown",
   "metadata": {},
   "source": [
    "## Function"
   ]
  },
  {
   "cell_type": "code",
   "execution_count": 19,
   "metadata": {},
   "outputs": [
    {
     "name": "stdout",
     "output_type": "stream",
     "text": [
      "11\n",
      "12\n"
     ]
    }
   ],
   "source": [
    "\n",
    "def d(start):\n",
    "    def inner():\n",
    "        nonlocal start\n",
    "        start += 1\n",
    "        print(start)\n",
    "    return inner\n",
    "\n",
    "f = d(10)\n",
    "\n",
    "f() # 11 will be printed\n",
    "f() # 12 will be printed"
   ]
  },
  {
   "cell_type": "markdown",
   "metadata": {},
   "source": [
    "## Reverse Matrix"
   ]
  },
  {
   "cell_type": "code",
   "execution_count": 20,
   "metadata": {},
   "outputs": [
    {
     "name": "stdout",
     "output_type": "stream",
     "text": [
      "[[6, 5], [4, 3], [2, 1]]\n"
     ]
    }
   ],
   "source": [
    "#   [[1, 2]\n",
    "#   [3, 4]\n",
    "#   [5, 6]]\n",
    "# OUTPUT\n",
    "#   [[6, 5]\n",
    "#   [4, 3]\n",
    "#   [2, 1]]\n",
    "\n",
    "def reverse_matrix(M):\n",
    "    M.reverse()\n",
    "    for row in M:\n",
    "        row.reverse()\n",
    "\n",
    "M = [[1, 2],\n",
    "   [3, 4],\n",
    "   [5, 6]]\n",
    "reverse_matrix(M)\n",
    "print(M)"
   ]
  },
  {
   "cell_type": "markdown",
   "metadata": {},
   "source": [
    "## Sublist With given Sum\n"
   ]
  },
  {
   "cell_type": "code",
   "execution_count": 21,
   "metadata": {},
   "outputs": [
    {
     "name": "stdout",
     "output_type": "stream",
     "text": [
      "2 2\n"
     ]
    },
    {
     "data": {
      "text/plain": [
       "True"
      ]
     },
     "execution_count": 21,
     "metadata": {},
     "output_type": "execute_result"
    }
   ],
   "source": [
    "# [1,2,5,4,5], 5 => 1 3\n",
    "\n",
    "def sublist_given_sum(l, s):\n",
    "    for i in range(len(l)):\n",
    "        interval_sum = l[i]\n",
    "        if interval_sum == s:\n",
    "            print(i,i)\n",
    "            return True\n",
    "        for j in range(i + 1, len(l)):\n",
    "            interval_sum += l[j]\n",
    "            if interval_sum == s:\n",
    "                print(i,j)\n",
    "                return True\n",
    "            elif s < interval_sum:\n",
    "                break\n",
    "    print(-1)\n",
    "    return False\n",
    "\n",
    "sublist_given_sum([1,2,5,4,5], 5)"
   ]
  },
  {
   "cell_type": "markdown",
   "metadata": {},
   "source": [
    "## Missing Number In array"
   ]
  },
  {
   "cell_type": "code",
   "execution_count": 22,
   "metadata": {},
   "outputs": [
    {
     "name": "stdout",
     "output_type": "stream",
     "text": [
      "None\n"
     ]
    }
   ],
   "source": [
    "# [1,2,3,5,6] => 4\n",
    "def missing_number(l):\n",
    "    for i in range(1, len(l) + 1): #n\n",
    "        if i != l[i - 1]:\n",
    "            return i\n",
    "    return -1\n",
    "\n",
    "def missing_number_r(l, start, end): #l, 3, 5\n",
    "    if start == end:\n",
    "        return start + 1\n",
    "    index_middle = int((start + end) / 2) # 3 + 5 / 2 = 4 \n",
    "    if l[index_middle] == index_middle + 1:\n",
    "        missing_number_r(l,index_middle + 1,end)\n",
    "    else:\n",
    "        missing_number_r(l,start,index_middle - 1)\n",
    "\n",
    "print(missing_number_r([1,2,3,5,6],0,5))"
   ]
  },
  {
   "cell_type": "markdown",
   "metadata": {},
   "source": [
    "## Parenthesis Checker"
   ]
  },
  {
   "cell_type": "code",
   "execution_count": 23,
   "metadata": {},
   "outputs": [
    {
     "name": "stdout",
     "output_type": "stream",
     "text": [
      "True\n",
      "False\n",
      "False\n"
     ]
    }
   ],
   "source": [
    "# ((()())()) => True\n",
    "# )())) = False\n",
    "# (() => False\n",
    "# )( => False\n",
    "\n",
    "def check(s):\n",
    "    left = 0\n",
    "    for c in s:\n",
    "        if c == '(':\n",
    "            left += 1\n",
    "        else:\n",
    "            if left == 0:\n",
    "                return False\n",
    "            left -= 1\n",
    "    return left == 0\n",
    "\n",
    "print(check(\"((()())())\"))\n",
    "print(check(\"(()()))\"))\n",
    "print(check(\")(\"))"
   ]
  },
  {
   "cell_type": "code",
   "execution_count": 13,
   "metadata": {},
   "outputs": [
    {
     "name": "stdout",
     "output_type": "stream",
     "text": [
      "3 5\n",
      "6 7\n"
     ]
    }
   ],
   "source": [
    "# [23,18,15,12,34,55,22,44] => (1 3) (4 5)\n",
    "# Day when price drops (price < previous day) => sell the previous day\n",
    "# BUY when price > previous day => BUY the previous day\n",
    "\n",
    "def buy_sell(prices):\n",
    "    buy = 0\n",
    "    previous_price = 10000 #max int\n",
    "    for index, price in enumerate(prices):\n",
    "        if price < previous_price:\n",
    "            if buy:\n",
    "                print(buy, index - 1)\n",
    "                buy = 0\n",
    "        elif previous_price < price:\n",
    "            if not buy:\n",
    "                buy = index - 1\n",
    "        previous_price = price\n",
    "    if buy:\n",
    "        print(buy, len(prices) - 1)\n",
    "buy_sell([23,18,15,12,34,55,22,44])"
   ]
  },
  {
   "cell_type": "code",
   "execution_count": null,
   "metadata": {},
   "outputs": [],
   "source": []
  }
 ],
 "metadata": {
  "kernelspec": {
   "display_name": "Python 3",
   "language": "python",
   "name": "python3"
  },
  "language_info": {
   "codemirror_mode": {
    "name": "ipython",
    "version": 3
   },
   "file_extension": ".py",
   "mimetype": "text/x-python",
   "name": "python",
   "nbconvert_exporter": "python",
   "pygments_lexer": "ipython3",
   "version": "3.7.4"
  }
 },
 "nbformat": 4,
 "nbformat_minor": 2
}

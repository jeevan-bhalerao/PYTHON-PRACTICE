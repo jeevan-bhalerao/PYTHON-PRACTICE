{
 "cells": [
  {
   "cell_type": "markdown",
   "metadata": {},
   "source": [
    "# Function"
   ]
  },
  {
   "cell_type": "markdown",
   "metadata": {},
   "source": [
    "    Why use Function \n",
    "        \n",
    "        1.Function reduce  line of code n your main program by letting you avail predeined features multiple \n",
    "        times without having to repeat its set of codes again\n",
    "        DRY --Don't Repeat Yourself --Function are Reusable Tasks"
   ]
  },
  {
   "cell_type": "markdown",
   "metadata": {},
   "source": [
    "    What are Function\n",
    "        1.Functions provide a way to break problems or processes down into smaller and independent blocks of code\n",
    "        \n",
    "        2.A Function s a block of organized reusable code that is used to perform some task:\n",
    "            It is usually called by its name when its task needs excution\n",
    "            You can also pass values to it or have it return results to you"
   ]
  },
  {
   "cell_type": "markdown",
   "metadata": {},
   "source": [
    "    Docstring :\n",
    "        The first string after the function header is called the docstring and is short for documentation string"
   ]
  },
  {
   "cell_type": "markdown",
   "metadata": {},
   "source": [
    "    Function :\n",
    "        Two Type of Function:\n",
    "            1.Built in Fumction \n",
    "            2.User Defined Function\n",
    "        "
   ]
  },
  {
   "cell_type": "markdown",
   "metadata": {},
   "source": [
    "    Built In Function:\n",
    "        1.abs():--The function return absolute value of the specified number:\n",
    "            for example:- abs(4)\n",
    "                No Negative interms of absolute value\n",
    "                if we give negative value in as -4 produce positive value\n",
    "        x=abs(3+5j)\n",
    "        \n",
    "        2.all():--The function return TRUE If all items in an iterable are TRUE otherwise it returns FALSE:\n",
    "            Same for lists tuples and dictionary as well\n",
    "            \n",
    "            all(iterable)\n",
    "            \n",
    "            mylist =['True','True]\n",
    "            x = all(mylist)\n",
    "        3.ascii():American standard code of information and interchange:\n",
    "            It return  readable version of any objects(String,tuple,lists etc)\n",
    "            Not valid ascii charactor escape by python the charector\n",
    "            \n",
    "            ascii(object)\n",
    "            x = ascii('My Name is Stale')\n",
    "            \n",
    "        4.bool():-return boolean value of a specified objects\n",
    "            bool(object)#any object like list string etc\n",
    "            x = bool(1)\n",
    "            \n",
    "        5.enumerate():--Takes a collection (e.g a tuple) and returns it as an enumerate object.\n",
    "            enumerate(iterable,start)#start is actually a number if you don't put anything take it as Zero\n",
    "            \n",
    "            x = ('Banana','Apple','cherry')\n",
    "            y = enumerate(x)\n",
    "            \n",
    "        6.format():--Formats a specified value into a specified format\n",
    "            \n",
    "            format(value,format)\n",
    "            \n",
    "            x = format(0.5,'%')\n",
    "         7.getattr():-Return the value of the specified attribute from the specified objects.\n",
    "             \n",
    "          getattr(objects,attribute,default)# Default is optional it does value to return attribute does not exit\n",
    "             \n",
    "                 class person:\n",
    "                     name='Jeevan'\n",
    "                     age = 26\n",
    "                     country = 'India'\n",
    "                  x=getattr(person,'age')\n",
    "             \n",
    "        8.id() identity function :--Return uniqe id for specified objects\n",
    "                id is different at each time when we run the program\n",
    "                \n",
    "                id(objects)\n",
    "                \n",
    "                x=('Apple','Banana','cherry')\n",
    "                y=id(x)\n",
    "        9.len():-return no of items in an object\n",
    "                x='Hello'\n",
    "                len(x)\n",
    "                \n",
    "        10.map():-Excute a specified function for each item in an iterable.\n",
    "                  The item s sent to the function as a parameter\n",
    "                  \n",
    "                  map(function,iterable)\n",
    "                  \n",
    "                  def myfunc(n):\n",
    "                      return len(n)\n",
    "                      \n",
    "                   x = map(myfunc,('Apple','Banana','cherry'))\n",
    "       11.min():-Return the item with the owest value or the item with the lowest value n an iterable\n",
    "               \n",
    "               min(n1,n2..)\n",
    "               x=min(5,10)\n",
    "               \n",
    "       12.pow():--return the value of x to the power of y(x^y) and modulus of z\n",
    "               \n",
    "               pow(x,y,z)\n",
    "               \n",
    "               x=pow(4,3)\n",
    "               \n",
    "       13.Print():--Print the specified message to the screen,or other standard output device.\n",
    "               print(objects(s),separator=seperator,end=end,file=file,flush=flush)\n",
    "               print('Hello world')\n",
    "               \n",
    "       14.setattr():-set the value of specified attribute of the specified object.\n",
    "                   setattr(object,attribute,value)\n",
    "                   class person:\n",
    "                     name='Jeevan'\n",
    "                     age = 26\n",
    "                     country = 'India'\n",
    "                  setattr(person,'age',40)\n",
    "                  \n",
    "        15.sorted():-return a sorted list of the specified iterable objects.\n",
    "                    you can not sort numeric value and string value\n",
    "                    \n",
    "       sorted(iterable,key=key,reverse=reverse)#key is function use to design order ,Key and reverse are optional\n",
    "                    reverse is boolean True  desending order False is acending order \n",
    "                    a=[1,4,2,5,7,5,3,5]\n",
    "                    b=sorted(a)\n",
    "                    print(b)\n",
    "         16.type():-return the type of specified objects\n",
    "             \n",
    "                 type(object,base,tuple)\n",
    "                 \n",
    "                 a=('apple','banana')\n",
    "                 b=\"Hello World\"\n",
    "                 c=4"
   ]
  },
  {
   "cell_type": "markdown",
   "metadata": {},
   "source": [
    "# User Defined Function    "
   ]
  },
  {
   "cell_type": "markdown",
   "metadata": {},
   "source": [
    "    Creating Function :\n",
    "        def my_func():\n",
    "            print(\"Hello\")\n",
    "            \n",
    "            \n",
    "    calling Function:\n",
    "        def my_func():\n",
    "            print(\"Hello\")\n",
    "        my_func()\n",
    "        \n",
    "    Parameter:Information passed to functions\n",
    "        def my_func(fname):\n",
    "            print(fname+\"refsnes\")\n",
    "        my_func('Jeevan')\n",
    "        \n",
    "    Default Parameter:\n",
    "                def my_func(country=\"Norway\"):\n",
    "                    print('I am from ' +country)\n",
    "                    \n",
    "                my_func('sweden')\n",
    "                my_func()\n",
    "                \n",
    "    Returns Values:-\n",
    "        def my_func(x):\n",
    "            return 5*x\n",
    "        my_func(4)\n",
    "        "
   ]
  },
  {
   "cell_type": "markdown",
   "metadata": {},
   "source": [
    "   # Recusrtion :-Call Function Itself\n",
    "    \n",
    "        def tri_recursion(k):\n",
    "            if k>0:\n",
    "                result = k+tri_recursion(k-1)\n",
    "                print(result)\n",
    "            else:\n",
    "                result = 0\n",
    "            return result\n",
    "            \n",
    "        print(\"\\n Resursion Example Results\")\n",
    "        tri_recursion(6)\n"
   ]
  },
  {
   "cell_type": "markdown",
   "metadata": {},
   "source": [
    "# Lambda"
   ]
  },
  {
   "cell_type": "markdown",
   "metadata": {},
   "source": [
    "    A lambda function is small anonymous function.It take any number of argument but only have one expression.\n",
    "    \n",
    "    lambda arguments:Expresion\n",
    "     \n",
    "     x=lambda a:a+10 # here value of a is 5\n",
    "         print(x(5)\n",
    "         \n",
    "     x = lambda a,b:a*b\n",
    "      print(x(4,5))\n",
    "      \n",
    "      x = lambda a,b,c:a+b+c\n",
    "      print(x(4,5,6))"
   ]
  },
  {
   "cell_type": "markdown",
   "metadata": {},
   "source": [
    "# Why use lambda function"
   ]
  },
  {
   "cell_type": "markdown",
   "metadata": {},
   "source": [
    "    The power of lambda function is better shown when you use them as an anonymous function inside another function"
   ]
  },
  {
   "cell_type": "markdown",
   "metadata": {},
   "source": [
    "    def my_func(n):\n",
    "        return lambda a:a*n\n",
    "    \n",
    "    \n",
    "    use that function defination to make a function that always doubles the number you send in:\n",
    "        \n",
    "        def my_func(n):\n",
    "            return lambda a:a*n\n",
    "        mydoubler = my_func(2)#here n = 2\n",
    "        \n",
    "        print(mydoubler(11))#here a=11"
   ]
  },
  {
   "cell_type": "code",
   "execution_count": 5,
   "metadata": {},
   "outputs": [
    {
     "name": "stdout",
     "output_type": "stream",
     "text": [
      "22\n"
     ]
    }
   ],
   "source": [
    "def my_func(n):\n",
    "    return lambda a:a*n\n",
    "mydoubler = my_func(2)#here n = 2\n",
    "        \n",
    "print(mydoubler(11))#here a=11"
   ]
  },
  {
   "cell_type": "code",
   "execution_count": null,
   "metadata": {},
   "outputs": [],
   "source": []
  }
 ],
 "metadata": {
  "kernelspec": {
   "display_name": "Python 3",
   "language": "python",
   "name": "python3"
  },
  "language_info": {
   "codemirror_mode": {
    "name": "ipython",
    "version": 3
   },
   "file_extension": ".py",
   "mimetype": "text/x-python",
   "name": "python",
   "nbconvert_exporter": "python",
   "pygments_lexer": "ipython3",
   "version": "3.7.4"
  }
 },
 "nbformat": 4,
 "nbformat_minor": 2
}

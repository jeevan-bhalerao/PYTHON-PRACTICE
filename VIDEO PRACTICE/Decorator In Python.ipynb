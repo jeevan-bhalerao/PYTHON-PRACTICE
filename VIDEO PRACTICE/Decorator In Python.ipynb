{
 "cells": [
  {
   "cell_type": "markdown",
   "metadata": {},
   "source": [
    "# Decoratores"
   ]
  },
  {
   "cell_type": "markdown",
   "metadata": {},
   "source": [
    "    Decoratores :-\n",
    "        Decoraters in python are verry powerful which modify the behaviour of a function without modifying\n",
    "        permanently \n",
    "        It basically wraps another function and since both function are callable,It returns callable"
   ]
  },
  {
   "cell_type": "code",
   "execution_count": 1,
   "metadata": {},
   "outputs": [
    {
     "name": "stdout",
     "output_type": "stream",
     "text": [
      "Hello\n",
      "Python ista\n",
      "WELCOME TO PYTHON\n"
     ]
    }
   ],
   "source": [
    "def function1(function):\n",
    "    def wrapper():\n",
    "        print(\"Hello\")\n",
    "        function()\n",
    "        print('WELCOME TO PYTHON')\n",
    "    return wrapper\n",
    "'''def function2():\n",
    "    print('Python ista')\n",
    "        \n",
    "function2 = function1(function2)  \n",
    "function2()'''\n",
    "#OR\n",
    "@function1\n",
    "def function2():\n",
    "    print('Python ista')\n",
    "function2()"
   ]
  },
  {
   "cell_type": "code",
   "execution_count": 5,
   "metadata": {},
   "outputs": [
    {
     "name": "stdout",
     "output_type": "stream",
     "text": [
      "Hello\n",
      "Jeevan\n",
      "Welcome to python\n"
     ]
    }
   ],
   "source": [
    "def function1(function):\n",
    "    def wrapper(*args,**kwargs):\n",
    "        print('Hello')\n",
    "        function(*args,**kwargs)\n",
    "        print('Welcome to python')   \n",
    "    return wrapper\n",
    "@function1\n",
    "def function2(name):\n",
    "    print(f\"{name}\")\n",
    "    \n",
    "function2('Jeevan')\n",
    "        \n",
    "        "
   ]
  },
  {
   "cell_type": "code",
   "execution_count": 6,
   "metadata": {},
   "outputs": [
    {
     "name": "stdout",
     "output_type": "stream",
     "text": [
      "Hello\n"
     ]
    }
   ],
   "source": [
    "def function1(function):\n",
    "    def wrapper(*args,**kwargs):\n",
    "        print('Hello')\n",
    "    return wrapper\n",
    "@function1\n",
    "def function2(name):\n",
    "    print(f\"{name}\")\n",
    "    \n",
    "function2('Python')"
   ]
  },
  {
   "cell_type": "code",
   "execution_count": null,
   "metadata": {},
   "outputs": [],
   "source": []
  },
  {
   "cell_type": "code",
   "execution_count": null,
   "metadata": {},
   "outputs": [],
   "source": [
    " "
   ]
  }
 ],
 "metadata": {
  "kernelspec": {
   "display_name": "Python 3",
   "language": "python",
   "name": "python3"
  },
  "language_info": {
   "codemirror_mode": {
    "name": "ipython",
    "version": 3
   },
   "file_extension": ".py",
   "mimetype": "text/x-python",
   "name": "python",
   "nbconvert_exporter": "python",
   "pygments_lexer": "ipython3",
   "version": "3.7.4"
  }
 },
 "nbformat": 4,
 "nbformat_minor": 2
}

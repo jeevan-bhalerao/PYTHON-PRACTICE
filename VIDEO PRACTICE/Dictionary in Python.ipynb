{
 "cells": [
  {
   "cell_type": "markdown",
   "metadata": {},
   "source": [
    "## Dictionary"
   ]
  },
  {
   "cell_type": "markdown",
   "metadata": {},
   "source": [
    "#### Dictionary is collection Data type which has key value pairs\n",
    "\n",
    "#### Features\n"
   ]
  },
  {
   "cell_type": "markdown",
   "metadata": {},
   "source": [
    "#### Unordered\n",
    "#### Mutable\n",
    "#### Indexed\n",
    "#### No Duplicate Members"
   ]
  },
  {
   "cell_type": "markdown",
   "metadata": {},
   "source": [
    "Why use Dictionary in Python"
   ]
  },
  {
   "cell_type": "markdown",
   "metadata": {},
   "source": [
    "1.Unordered and store value like a map"
   ]
  },
  {
   "cell_type": "markdown",
   "metadata": {},
   "source": [
    "2.Conatain Key Value pairs unlike other data type"
   ]
  },
  {
   "cell_type": "markdown",
   "metadata": {},
   "source": [
    "3.Similar to real life dictionary with distinct key values\n",
    "    \n",
    "        not acess duplicate member but you mention duplicate member in values but the key has to be distinct"
   ]
  },
  {
   "cell_type": "markdown",
   "metadata": {},
   "source": [
    "## Difference Between Dictionary And List"
   ]
  },
  {
   "cell_type": "markdown",
   "metadata": {},
   "source": [
    "    Dictionary                                     \n",
    "      1.Unordered                                         \n",
    "      2.Accesses Via Keys                         \n",
    "      3.Collection Of key value Pairs             \n",
    "      4.Preferred when you have unique key values \n",
    "      5.No duplicate Member                      "
   ]
  },
  {
   "cell_type": "markdown",
   "metadata": {},
   "source": [
    "    List\n",
    "     1.Ordered\n",
    "     2.Accesses Via Index\n",
    "     3.Collection Of elements\n",
    "     4.Prefered for ordered data\n",
    "     5.Allows Duplicate Members"
   ]
  },
  {
   "cell_type": "code",
   "execution_count": 7,
   "metadata": {},
   "outputs": [
    {
     "data": {
      "text/plain": [
       "{1: 'Edureka', 2: 'Data Science', 3: 'Python'}"
      ]
     },
     "execution_count": 7,
     "metadata": {},
     "output_type": "execute_result"
    }
   ],
   "source": [
    "a = {1: \"Edureka\",2: 'Data Science',3: \"Python\"}\n",
    "a"
   ]
  },
  {
   "cell_type": "code",
   "execution_count": 8,
   "metadata": {},
   "outputs": [
    {
     "name": "stdout",
     "output_type": "stream",
     "text": [
      "Edureka\n",
      "Data Science\n"
     ]
    }
   ],
   "source": [
    "print(a[1])\n",
    "print(a.get(2))"
   ]
  },
  {
   "cell_type": "markdown",
   "metadata": {},
   "source": [
    " # Replacing Value"
   ]
  },
  {
   "cell_type": "code",
   "execution_count": 9,
   "metadata": {},
   "outputs": [
    {
     "name": "stdout",
     "output_type": "stream",
     "text": [
      "{1: 'Machine Learning', 2: 'Data Science', 3: 'Python'}\n"
     ]
    }
   ],
   "source": [
    "a[1] = \"Machine Learning\"\n",
    "print(a)"
   ]
  },
  {
   "cell_type": "markdown",
   "metadata": {},
   "source": [
    " # Add Value in Dictionary"
   ]
  },
  {
   "cell_type": "code",
   "execution_count": 10,
   "metadata": {},
   "outputs": [],
   "source": [
    "a[4]=\"Data Science\""
   ]
  },
  {
   "cell_type": "code",
   "execution_count": 11,
   "metadata": {},
   "outputs": [
    {
     "data": {
      "text/plain": [
       "{1: 'Machine Learning', 2: 'Data Science', 3: 'Python', 4: 'Data Science'}"
      ]
     },
     "execution_count": 11,
     "metadata": {},
     "output_type": "execute_result"
    }
   ],
   "source": [
    "a"
   ]
  },
  {
   "cell_type": "markdown",
   "metadata": {},
   "source": [
    " # Operation In Dictionary"
   ]
  },
  {
   "cell_type": "code",
   "execution_count": 14,
   "metadata": {},
   "outputs": [
    {
     "data": {
      "text/plain": [
       "{}"
      ]
     },
     "execution_count": 14,
     "metadata": {},
     "output_type": "execute_result"
    }
   ],
   "source": [
    "a.clear()# Remove Or delete all element from dictionary\n",
    "a"
   ]
  },
  {
   "cell_type": "code",
   "execution_count": 15,
   "metadata": {},
   "outputs": [],
   "source": [
    "a = {1: \"Edureka\",2: 'Data Science',3: \"Python\"}\n"
   ]
  },
  {
   "cell_type": "code",
   "execution_count": 17,
   "metadata": {},
   "outputs": [
    {
     "data": {
      "text/plain": [
       "{1: 'Edureka', 2: 'Data Science', 3: 'Python'}"
      ]
     },
     "execution_count": 17,
     "metadata": {},
     "output_type": "execute_result"
    }
   ],
   "source": [
    "b = a.copy()\n",
    "b"
   ]
  },
  {
   "cell_type": "code",
   "execution_count": 20,
   "metadata": {},
   "outputs": [
    {
     "data": {
      "text/plain": [
       "dict_values(['Edureka', 'Data Science', 'Python'])"
      ]
     },
     "execution_count": 20,
     "metadata": {},
     "output_type": "execute_result"
    }
   ],
   "source": [
    "b.values()# Return All Values"
   ]
  },
  {
   "cell_type": "code",
   "execution_count": 19,
   "metadata": {},
   "outputs": [
    {
     "data": {
      "text/plain": [
       "dict_keys([1, 2, 3])"
      ]
     },
     "execution_count": 19,
     "metadata": {},
     "output_type": "execute_result"
    }
   ],
   "source": [
    "b.keys()# Return all key"
   ]
  },
  {
   "cell_type": "code",
   "execution_count": 22,
   "metadata": {},
   "outputs": [
    {
     "data": {
      "text/plain": [
       "{1: 'Edureka', 2: 'Data Science', 3: 'Python'}"
      ]
     },
     "execution_count": 22,
     "metadata": {},
     "output_type": "execute_result"
    }
   ],
   "source": [
    "b.update()\n",
    "b"
   ]
  },
  {
   "cell_type": "code",
   "execution_count": 24,
   "metadata": {},
   "outputs": [
    {
     "data": {
      "text/plain": [
       "'Edureka'"
      ]
     },
     "execution_count": 24,
     "metadata": {},
     "output_type": "execute_result"
    }
   ],
   "source": [
    "b.get(1)# Return values by specified Key"
   ]
  },
  {
   "cell_type": "code",
   "execution_count": 25,
   "metadata": {},
   "outputs": [
    {
     "data": {
      "text/plain": [
       "dict_items([(1, 'Edureka'), (2, 'Data Science'), (3, 'Python')])"
      ]
     },
     "execution_count": 25,
     "metadata": {},
     "output_type": "execute_result"
    }
   ],
   "source": [
    "b.items()# get list for tuple of each key value pair"
   ]
  },
  {
   "cell_type": "code",
   "execution_count": 26,
   "metadata": {},
   "outputs": [
    {
     "data": {
      "text/plain": [
       "'Edureka'"
      ]
     },
     "execution_count": 26,
     "metadata": {},
     "output_type": "execute_result"
    }
   ],
   "source": [
    "b.pop(1)  "
   ]
  },
  {
   "cell_type": "code",
   "execution_count": 27,
   "metadata": {},
   "outputs": [
    {
     "data": {
      "text/plain": [
       "{2: 'Data Science', 3: 'Python'}"
      ]
     },
     "execution_count": 27,
     "metadata": {},
     "output_type": "execute_result"
    }
   ],
   "source": [
    "b"
   ]
  },
  {
   "cell_type": "code",
   "execution_count": 28,
   "metadata": {},
   "outputs": [
    {
     "data": {
      "text/plain": [
       "(3, 'Python')"
      ]
     },
     "execution_count": 28,
     "metadata": {},
     "output_type": "execute_result"
    }
   ],
   "source": [
    "b.popitem()# Remove the last Inserted Key value Pair"
   ]
  },
  {
   "cell_type": "code",
   "execution_count": 29,
   "metadata": {},
   "outputs": [
    {
     "data": {
      "text/plain": [
       "{2: 'Data Science'}"
      ]
     },
     "execution_count": 29,
     "metadata": {},
     "output_type": "execute_result"
    }
   ],
   "source": [
    "b"
   ]
  },
  {
   "cell_type": "code",
   "execution_count": 32,
   "metadata": {},
   "outputs": [
    {
     "name": "stdout",
     "output_type": "stream",
     "text": [
      "Data Science\n"
     ]
    }
   ],
   "source": [
    "print(b.setdefault(2))# It return the value of Specified Key If key does not exit you insert key with specified value"
   ]
  },
  {
   "cell_type": "code",
   "execution_count": 39,
   "metadata": {},
   "outputs": [],
   "source": [
    "# b.fromkeys(a)"
   ]
  },
  {
   "cell_type": "markdown",
   "metadata": {},
   "source": [
    "# Dictionary Constructor"
   ]
  },
  {
   "cell_type": "code",
   "execution_count": 36,
   "metadata": {},
   "outputs": [
    {
     "name": "stdout",
     "output_type": "stream",
     "text": [
      "{'key1': 'Python', 'key2': 'Machine learning'}\n"
     ]
    }
   ],
   "source": [
    "mydictionary = dict(key1=\"Python\",key2=\"Machine learning\")# here Dict is the constructor\n",
    "print(mydictionary)"
   ]
  },
  {
   "cell_type": "code",
   "execution_count": 40,
   "metadata": {},
   "outputs": [],
   "source": [
    "c = {1:2,2:4,3:9}"
   ]
  },
  {
   "cell_type": "code",
   "execution_count": 41,
   "metadata": {},
   "outputs": [
    {
     "name": "stdout",
     "output_type": "stream",
     "text": [
      "{'key1': None, 'key2': None}\n"
     ]
    }
   ],
   "source": [
    "print(a.fromkeys(mydictionary))"
   ]
  },
  {
   "cell_type": "markdown",
   "metadata": {},
   "source": [
    "# Use Cases"
   ]
  },
  {
   "cell_type": "markdown",
   "metadata": {},
   "source": [
    "## problem Statement\n",
    "1. Store the indian world cup squard data for 2019 you should able to display the stats of any player from the data\n",
    "\n"
   ]
  },
  {
   "cell_type": "code",
   "execution_count": 43,
   "metadata": {},
   "outputs": [],
   "source": [
    "import pandas as pd\n",
    "\n",
    "# Use Here nested Dictionary"
   ]
  },
  {
   "cell_type": "code",
   "execution_count": 60,
   "metadata": {},
   "outputs": [],
   "source": [
    "squad = {'Batsmen':{'Rohit Sharma':{'Matches':206,\n",
    "                                    'Runs':8010,\n",
    "                                   'Average':47.4,\n",
    "                                    'Hightest Score':264},\n",
    "                   'Shikhar Dhawan':{'Matches':206,\n",
    "                                    'Runs':8010,\n",
    "                                   'Average':47.4,\n",
    "                                    'Hightest Score':264},\n",
    "                   'Virat Kohli':{'Matches':206,\n",
    "                                    'Runs':8010,\n",
    "                                   'Average':47.4,\n",
    "                                    'Hightest Score':264}},\n",
    "        'All Rounder':{'Vijay Shankar':{'Matches':206,\n",
    "                                    'Runs':8010,\n",
    "                                   'Average':47.4,\n",
    "                                    'Wickets':264},\n",
    "                      'Kedar Jadhav':{'Matches':206,\n",
    "                                    'Runs':8010,\n",
    "                                   'Average':47.4,\n",
    "                                    'Hightest Score':264},\n",
    "                      'Hardik Panday':{'Matches':206,\n",
    "                                       'Runs':1111,\n",
    "                                       'Average':21.75,\n",
    "                                    'Wickets':87,\n",
    "                                    'Best':6/25}},\n",
    "         'Bowlers':{'Mohmmad Shami':{'Matches':63,\n",
    "                                    'Wickets':113,\n",
    "                                   'Average':26.12,\n",
    "                                    'Best':'4/35'},\n",
    "                      'Jaspreet Bumrah':{'Matches':49,\n",
    "                                    'Wickets':85,\n",
    "                                   'Average':22.15,\n",
    "                                    'Best':'5/27'},\n",
    "                      'Bhuvneshwar Kumar':{'Matches':105,\n",
    "                                    'Wickets':118,\n",
    "                                   'Average':35.67,\n",
    "                                    'Best':'5/42'},\n",
    "                      'Yuzi Chahal':{'Matches':41,\n",
    "                                    'Wickets':118,\n",
    "                                   'Average':24.61,\n",
    "                                    'Best':'6/42'}},\n",
    "         \n",
    "        'WktKeeper':{'Dhoni':{'Matches':341,\n",
    "                                    'Runs':10500,\n",
    "                                   'Average':50.72,\n",
    "                                    'Hightest Score':79}\n",
    "                     }\n",
    "        }"
   ]
  },
  {
   "cell_type": "code",
   "execution_count": 61,
   "metadata": {},
   "outputs": [],
   "source": [
    "df1 = pd.DataFrame(squad['Batsmen']['Rohit Sharma'],index=[1])\n",
    "df1 = pd.DataFrame(squad['Bowlers']['Jaspreet Bumrah'],index=[1])\n",
    "df1 = pd.DataFrame(squad['All Rounder']['Hardik Panday'],index=[1])\n",
    "df1 = pd.DataFrame(squad['WktKeeper']['Dhoni'],index=[1])"
   ]
  },
  {
   "cell_type": "code",
   "execution_count": 62,
   "metadata": {},
   "outputs": [],
   "source": [
    "dfa = pd.DataFrame(squad['Batsmen'])\n",
    "dfb = pd.DataFrame(squad['Bowlers'])\n",
    "dfd = pd.DataFrame(squad['WktKeeper'])\n",
    "dfc = pd.DataFrame(squad['All Rounder'])\n"
   ]
  },
  {
   "cell_type": "code",
   "execution_count": 63,
   "metadata": {},
   "outputs": [
    {
     "name": "stdout",
     "output_type": "stream",
     "text": [
      "                Rohit Sharma  Shikhar Dhawan  Virat Kohli\n",
      "Matches                206.0           206.0        206.0\n",
      "Runs                  8010.0          8010.0       8010.0\n",
      "Average                 47.4            47.4         47.4\n",
      "Hightest Score         264.0           264.0        264.0\n"
     ]
    }
   ],
   "source": [
    "print(dfa)"
   ]
  },
  {
   "cell_type": "code",
   "execution_count": 64,
   "metadata": {},
   "outputs": [
    {
     "name": "stdout",
     "output_type": "stream",
     "text": [
      "        Mohmmad Shami Jaspreet Bumrah Bhuvneshwar Kumar Yuzi Chahal\n",
      "Matches            63              49               105          41\n",
      "Wickets           113              85               118         118\n",
      "Average         26.12           22.15             35.67       24.61\n",
      "Best             4/35            5/27              5/42        6/42\n"
     ]
    }
   ],
   "source": [
    "print(dfb)"
   ]
  },
  {
   "cell_type": "code",
   "execution_count": 65,
   "metadata": {},
   "outputs": [
    {
     "name": "stdout",
     "output_type": "stream",
     "text": [
      "                Vijay Shankar  Kedar Jadhav  Hardik Panday\n",
      "Matches                 206.0         206.0         206.00\n",
      "Runs                   8010.0        8010.0        1111.00\n",
      "Average                  47.4          47.4          21.75\n",
      "Wickets                 264.0           NaN          87.00\n",
      "Hightest Score            NaN         264.0            NaN\n",
      "Best                      NaN           NaN           0.24\n"
     ]
    }
   ],
   "source": [
    "print(dfc)"
   ]
  },
  {
   "cell_type": "code",
   "execution_count": 66,
   "metadata": {},
   "outputs": [
    {
     "name": "stdout",
     "output_type": "stream",
     "text": [
      "                   Dhoni\n",
      "Average            50.72\n",
      "Hightest Score     79.00\n",
      "Matches           341.00\n",
      "Runs            10500.00\n"
     ]
    }
   ],
   "source": [
    "print(dfd)"
   ]
  },
  {
   "cell_type": "code",
   "execution_count": null,
   "metadata": {},
   "outputs": [],
   "source": []
  }
 ],
 "metadata": {
  "kernelspec": {
   "display_name": "Python 3",
   "language": "python",
   "name": "python3"
  },
  "language_info": {
   "codemirror_mode": {
    "name": "ipython",
    "version": 3
   },
   "file_extension": ".py",
   "mimetype": "text/x-python",
   "name": "python",
   "nbconvert_exporter": "python",
   "pygments_lexer": "ipython3",
   "version": "3.7.4"
  }
 },
 "nbformat": 4,
 "nbformat_minor": 2
}

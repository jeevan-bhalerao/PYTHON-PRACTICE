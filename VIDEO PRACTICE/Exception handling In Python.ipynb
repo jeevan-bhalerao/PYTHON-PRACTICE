{
 "cells": [
  {
   "cell_type": "markdown",
   "metadata": {},
   "source": [
    "# Agenda"
   ]
  },
  {
   "cell_type": "markdown",
   "metadata": {},
   "source": [
    "     1.Why need Exception Handling\n",
    "     2.What is the Exception Handling\n",
    "     3.Process OF Exception Handling\n",
    "     4.Looking at code to understand theory"
   ]
  },
  {
   "cell_type": "markdown",
   "metadata": {},
   "source": [
    "# 1.Why need Exception Handling"
   ]
  },
  {
   "cell_type": "code",
   "execution_count": 1,
   "metadata": {},
   "outputs": [],
   "source": [
    "# Divide By Zero"
   ]
  },
  {
   "cell_type": "code",
   "execution_count": 2,
   "metadata": {},
   "outputs": [
    {
     "ename": "ZeroDivisionError",
     "evalue": "division by zero",
     "output_type": "error",
     "traceback": [
      "\u001b[0;31m---------------------------------------------------------------------------\u001b[0m",
      "\u001b[0;31mZeroDivisionError\u001b[0m                         Traceback (most recent call last)",
      "\u001b[0;32m<ipython-input-2-f406aa383dde>\u001b[0m in \u001b[0;36m<module>\u001b[0;34m\u001b[0m\n\u001b[1;32m      1\u001b[0m \u001b[0mx\u001b[0m\u001b[0;34m=\u001b[0m\u001b[0;36m10\u001b[0m\u001b[0;34m\u001b[0m\u001b[0;34m\u001b[0m\u001b[0m\n\u001b[0;32m----> 2\u001b[0;31m \u001b[0mprint\u001b[0m\u001b[0;34m(\u001b[0m\u001b[0mx\u001b[0m\u001b[0;34m/\u001b[0m\u001b[0;36m0\u001b[0m\u001b[0;34m)\u001b[0m\u001b[0;34m\u001b[0m\u001b[0;34m\u001b[0m\u001b[0m\n\u001b[0m",
      "\u001b[0;31mZeroDivisionError\u001b[0m: division by zero"
     ]
    }
   ],
   "source": [
    "x=10\n",
    "print(x/0)"
   ]
  },
  {
   "cell_type": "markdown",
   "metadata": {},
   "source": [
    "# 2.What is the Exception Handling"
   ]
  },
  {
   "cell_type": "markdown",
   "metadata": {},
   "source": [
    "    Exeception:-\n",
    "        An exception is n event which occures during the execution of program that distrupt the normal flow of \n",
    "        program's instruction\n",
    "    Exeception Handling:-\n",
    "        Process of responding to the occurence,during computation,of execeptional condition requirings special \n",
    "        processing -often changing the normal flow f program execution"
   ]
  },
  {
   "cell_type": "markdown",
   "metadata": {},
   "source": [
    "# 3.Process OF Exception Handling"
   ]
  },
  {
   "cell_type": "markdown",
   "metadata": {},
   "source": [
    "    try    :-keyword used to keep the code segment under check\n",
    "            Run this code \n",
    "    \n",
    "    except :-segment to handle the exception after catching it\n",
    "            Execute this code when there is an exception\n",
    "    \n",
    "    else   :-Run this when no exception exits\n",
    "            no exeception run this code\n",
    "    \n",
    "    Finally :-No matter what run this code if/if not for exception\n",
    "            Always Run this code"
   ]
  },
  {
   "cell_type": "markdown",
   "metadata": {},
   "source": [
    " # Summary"
   ]
  },
  {
   "cell_type": "markdown",
   "metadata": {},
   "source": [
    "    1.raise    :--allows you to throw an exception at any time\n",
    "    2.assert   :--enables you to verfiy if a certain condition is met and throw an exception if it isn't\n",
    "    3.In try clause ,all statements are executed untill an exception is encountered\n",
    "    4.except   :--is used to catch and handle the exception that are encountered in try clause\n",
    "    5.else     :--lets your code sections that should run on exceptions are encountered in the try clause\n",
    "    6.finally  :--enables you to execute section of code that should always run with or without previously \n",
    "        encountered exception\n",
    "        "
   ]
  },
  {
   "cell_type": "code",
   "execution_count": null,
   "metadata": {},
   "outputs": [],
   "source": []
  }
 ],
 "metadata": {
  "kernelspec": {
   "display_name": "Python 3",
   "language": "python",
   "name": "python3"
  },
  "language_info": {
   "codemirror_mode": {
    "name": "ipython",
    "version": 3
   },
   "file_extension": ".py",
   "mimetype": "text/x-python",
   "name": "python",
   "nbconvert_exporter": "python",
   "pygments_lexer": "ipython3",
   "version": "3.7.4"
  }
 },
 "nbformat": 4,
 "nbformat_minor": 2
}

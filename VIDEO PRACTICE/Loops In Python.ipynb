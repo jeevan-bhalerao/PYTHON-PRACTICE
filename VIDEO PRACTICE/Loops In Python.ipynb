{
 "cells": [
  {
   "cell_type": "markdown",
   "metadata": {},
   "source": [
    "# While Loop"
   ]
  },
  {
   "cell_type": "markdown",
   "metadata": {},
   "source": [
    "    while loop is used when we don't know how many iteration are required\n",
    "\n",
    "    while loop are known as identifier or conditional loops \n",
    "    They will keep iterating untill certain condition are met\n",
    "    There is no guarantee ahead of time regarding how many time the loop Will iterate"
   ]
  },
  {
   "cell_type": "markdown",
   "metadata": {},
   "source": [
    "    IMP :--Loop will go in infinte state when condition never be false so that time the loop goes into finite state"
   ]
  },
  {
   "cell_type": "code",
   "execution_count": null,
   "metadata": {},
   "outputs": [],
   "source": [
    "count = 0\n",
    "while count < 9:\n",
    "    print(\"Number is\",count)\n",
    "    count = count+1\n",
    "print(\"Bye\")"
   ]
  },
  {
   "cell_type": "markdown",
   "metadata": {},
   "source": [
    "# Generating random number Using While Loop"
   ]
  },
  {
   "cell_type": "code",
   "execution_count": null,
   "metadata": {},
   "outputs": [],
   "source": [
    "import random\n",
    "n=20\n",
    "to_be_gussed = int(n*random.random())+1\n",
    "\n",
    "guess =0\n",
    "\n",
    "while guess != to_be_gussed:\n",
    "    guess = int(input(\"Enter the new number\"))\n",
    "    if guess > 0:\n",
    "        \n",
    "        if guess > to_be_gussed:\n",
    "            print('Number is large')\n",
    "        elif guess < to_be_gussed:\n",
    "            print('Number is small')\n",
    "    else:\n",
    "        print(\"Sorry that you are giving up\")\n",
    "        break\n",
    "else:\n",
    "    print(\"Congratulation you made Up\")"
   ]
  },
  {
   "cell_type": "markdown",
   "metadata": {},
   "source": [
    "# For Loop"
   ]
  },
  {
   "cell_type": "markdown",
   "metadata": {},
   "source": [
    "    For loop is used when we know how many iteration are required\n"
   ]
  },
  {
   "cell_type": "markdown",
   "metadata": {},
   "source": [
    "    For Loop need three informtion\n",
    "        1.Boolean Condition\n",
    "        2.The initial value of the counting variable\n",
    "        3.Incrementation of counting variable"
   ]
  },
  {
   "cell_type": "code",
   "execution_count": null,
   "metadata": {},
   "outputs": [],
   "source": [
    "fruits = ['Mango','Banana','Grapes','Apple']\n",
    "\n",
    "for fruit in fruits:\n",
    "    print('Current fruits',fruit)\n",
    "print(\"Good Bye\")"
   ]
  },
  {
   "cell_type": "markdown",
   "metadata": {},
   "source": [
    "# Factorial of Number"
   ]
  },
  {
   "cell_type": "code",
   "execution_count": null,
   "metadata": {},
   "outputs": [],
   "source": [
    "num  = int(input(\"Enter The Number is:: \"))\n",
    "\n",
    "factorial =1\n",
    "\n",
    "if num<0:\n",
    "    print(\"Number Must Be Positive\")\n",
    "    \n",
    "elif num==0:\n",
    "    print(\"Factorial is 1\")\n",
    "else:\n",
    "    for i in range(1,num+1):#The range will be 1 to num+1 but it woun't include num+1 only include in 1 to num\n",
    "        \n",
    "        factorial = factorial*i \n",
    "print(factorial)"
   ]
  },
  {
   "cell_type": "markdown",
   "metadata": {},
   "source": [
    "# Nested Loop"
   ]
  },
  {
   "cell_type": "markdown",
   "metadata": {},
   "source": [
    "    Python Programming language allows use of loop inside another loop.This is called as Nested Loop "
   ]
  },
  {
   "cell_type": "markdown",
   "metadata": {},
   "source": [
    "#### Here is the Example of ATM"
   ]
  },
  {
   "cell_type": "code",
   "execution_count": null,
   "metadata": {},
   "outputs": [],
   "source": [
    "print('Welcome to State Bank Of India')\n",
    "restart = ('Y')\n",
    "chances = 3\n",
    "balance = 90.23\n",
    "\n",
    "while chances > 0:\n",
    "    pin=int(input('Enter the Your $ digit Pin'))\n",
    "    \n",
    "    if pin == (1234):\n",
    "        print('You entered pin is correct \\n')\n",
    "        \n",
    "        while restart not in ('n','NO','no','N'):\n",
    "            print('Please Press 1 For You Balance\\n')\n",
    "            print('Please Press 2 To Make a Withdraw\\n')\n",
    "            print('Please Press 3 To pay in\\n')\n",
    "            print('Please Press 4 To Return Card\\n')\n",
    "            \n",
    "            options = int(input('What would you like to choose'))\n",
    "            \n",
    "            if options == 1:\n",
    "                print('Your Balance is',balance,'\\n')\n",
    "                restart = input('Woulde you like to go back \\n')\n",
    "                if restart in ('n','NO','no','N'):\n",
    "                    print('Thank u ')\n",
    "                    break\n",
    "            elif options == 2:\n",
    "                options2 = ('y')\n",
    "                withdraw = float(input('How much would you like to withdraw \\n100/200/300/400/500'))\n",
    "                if withdraw in [100,200,300,400,500]:\n",
    "                    balance = balance-withdraw\n",
    "                    print('\\n Yor Balance is now',balance)\n",
    "                    restart = input('Woulde you like to go back \\n')\n",
    "                    if restart in ('n','NO','no','N'):\n",
    "                        print('Thank u ')\n",
    "                        break \n",
    "                elif withdraw !=[100,200,300,400,500]:\n",
    "                    print('Invalid Amount Please Re-try\\n')\n",
    "                    restart= ('y')\n",
    "                elif withdraw == 1:\n",
    "                    withdraw = float(input('Please Enter Valid Amount'))\n",
    "            elif options == 3:\n",
    "                Pay_in = float(input('How much would you like to pay In'))\n",
    "                balance = balance + Pay_in\n",
    "                print('Your Balance is',balance,'\\n')\n",
    "                restart = input('Woulde you like to go back \\n')\n",
    "                if restart in ('n','NO','no','N'):\n",
    "                    print('Thank u ')\n",
    "                    break\n",
    "                    \n",
    "            elif options == 4:\n",
    "                print('Please wait while your card returned')\n",
    "                print('Thank u for your service ')\n",
    "                break\n",
    "                \n",
    "            else:\n",
    "                print('Please Enter the correct number.\\n')\n",
    "                restart =('y')\n",
    "    elif pin!=('1234'):\n",
    "        print('Incorrect Pin')\n",
    "        chances = chances-1\n",
    "        if chances == 0:\n",
    "            print('\\n No more tries')\n",
    "            break\n",
    "        \n",
    "    "
   ]
  },
  {
   "cell_type": "markdown",
   "metadata": {},
   "source": [
    "# Print the Pythgoream Number"
   ]
  },
  {
   "cell_type": "markdown",
   "metadata": {},
   "source": [
    "    Pythagoream means three integers satisfying a^2+b^2=c^2 are called Pythagoream number"
   ]
  },
  {
   "cell_type": "code",
   "execution_count": 2,
   "metadata": {},
   "outputs": [
    {
     "name": "stdout",
     "output_type": "stream",
     "text": [
      "Enter the Number?20\n",
      "3 4 5\n",
      "5 12 13\n",
      "6 8 10\n",
      "8 15 17\n",
      "9 12 15\n",
      "12 16 20\n"
     ]
    }
   ],
   "source": [
    "from math import sqrt\n",
    "n = int(input('Enter the Number?'))\n",
    "for a in range(1,n+1):\n",
    "    for b in range(a,n):\n",
    "        c_square = a**2 + b**2\n",
    "        c=int(sqrt(c_square))\n",
    "        \n",
    "        if ((c_square - c**2)==0):\n",
    "            print(a,b,c)\n",
    "            \n",
    "# for example 3*3=9 + 4*4=16 = 5*5=25  \n",
    "# means the same of 9+16=25\n"
   ]
  },
  {
   "cell_type": "markdown",
   "metadata": {},
   "source": [
    "## For Loop can use Inside While Loop "
   ]
  },
  {
   "cell_type": "markdown",
   "metadata": {},
   "source": [
    "    Example of Train Bulk Reservation"
   ]
  },
  {
   "cell_type": "code",
   "execution_count": null,
   "metadata": {},
   "outputs": [],
   "source": [
    "traveling = input(\"yes or no:\")\n",
    "\n",
    "while traveling == 'yes':\n",
    "    num = int(input(\"Number of people Traveling\\n\"))\n",
    "    \n",
    "    for num in range(1,num+1):\n",
    "        \n",
    "        Name = input('Name:')\n",
    "        Age =input('Age:')\n",
    "        Sex=input('Male or Female:')\n",
    "        \n",
    "        print(Name)\n",
    "        print(Age)\n",
    "        print(Sex)\n",
    "        \n",
    "    traveling=input('oops forgot someone')"
   ]
  },
  {
   "cell_type": "code",
   "execution_count": null,
   "metadata": {},
   "outputs": [],
   "source": []
  }
 ],
 "metadata": {
  "kernelspec": {
   "display_name": "Python 3",
   "language": "python",
   "name": "python3"
  },
  "language_info": {
   "codemirror_mode": {
    "name": "ipython",
    "version": 3
   },
   "file_extension": ".py",
   "mimetype": "text/x-python",
   "name": "python",
   "nbconvert_exporter": "python",
   "pygments_lexer": "ipython3",
   "version": "3.7.4"
  }
 },
 "nbformat": 4,
 "nbformat_minor": 2
}

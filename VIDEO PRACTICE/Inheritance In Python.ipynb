{
 "cells": [
  {
   "cell_type": "markdown",
   "metadata": {},
   "source": [
    "# Agenda"
   ]
  },
  {
   "cell_type": "markdown",
   "metadata": {},
   "source": [
    "    1.What is inheritance \n",
    "    2.Init Function\n",
    "    3.Types of Inheritance with Examples\n",
    "    4.Python Super Function\n",
    "    5.Methode Overrinding\n",
    "    "
   ]
  },
  {
   "cell_type": "markdown",
   "metadata": {},
   "source": [
    "     1.what is inheritance\n",
    "         when a child class inherits the properties of a parent class it is called as inheritance\n",
    "     \n",
    "         Used for code reusability transition and  Readability and Real world Relationship"
   ]
  },
  {
   "cell_type": "code",
   "execution_count": 4,
   "metadata": {},
   "outputs": [
    {
     "name": "stdout",
     "output_type": "stream",
     "text": [
      "This is parent class\n",
      "This is the Child Class\n"
     ]
    }
   ],
   "source": [
    "class Parent:\n",
    "    def func(self):\n",
    "        print(\"This is parent class\")\n",
    "        \n",
    "class Child(Parent):\n",
    "    def func1(self):\n",
    "        print(\"This is the Child Class\")\n",
    "        \n",
    "ob = Child()\n",
    "ob.func()\n",
    "ob.func1()"
   ]
  },
  {
   "cell_type": "markdown",
   "metadata": {},
   "source": [
    "    2. Init Function\n",
    "        \n",
    "            __init__()function get automatically called every time the class is used to create an objects\n",
    "            "
   ]
  },
  {
   "cell_type": "code",
   "execution_count": 12,
   "metadata": {},
   "outputs": [
    {
     "name": "stdout",
     "output_type": "stream",
     "text": [
      "26 Bhalerao Jeevan\n"
     ]
    }
   ],
   "source": [
    "class Parent:\n",
    "    def __init__(self,fname,fage):\n",
    "        \n",
    "        self.name=fname\n",
    "        self.age=fage\n",
    "        \n",
    "    def view(self):\n",
    "        print(self.name,self.age)\n",
    "        \n",
    "        \n",
    "class Child(Parent):\n",
    "    \n",
    "    def __init__(self,fname,fage):\n",
    "        Parent.__init__(self,fname,fage)\n",
    "        self.lname = \"Bhalerao\"\n",
    "        \n",
    "    def view(self):\n",
    "        print(self.age,self.lname,self.name)\n",
    "        \n",
    "        \n",
    "ob = Child('Jeevan',26)\n",
    "\n",
    "ob.view()\n",
    "        "
   ]
  },
  {
   "cell_type": "markdown",
   "metadata": {},
   "source": [
    "    3.Type of Inheritance \n",
    "        1.Single Inheritance       :--When one child class and one parent class\n",
    "        2.Multiple Inheitance      :--When More Than one parent class\n",
    "        3.Multilevel Inheritance   :--The child class act as a parent class for another child class\n",
    "        4.Hierarchical Inheritance :--More than one type of inheritance"
   ]
  },
  {
   "cell_type": "markdown",
   "metadata": {},
   "source": [
    "# Single Inheritance"
   ]
  },
  {
   "cell_type": "code",
   "execution_count": 15,
   "metadata": {},
   "outputs": [
    {
     "name": "stdout",
     "output_type": "stream",
     "text": [
      "This is parent class\n"
     ]
    }
   ],
   "source": [
    "class Parent:\n",
    "    def func(self):\n",
    "        print(\"This is parent class\")\n",
    "        \n",
    "class Child(Parent):\n",
    "    def func1(self):\n",
    "        print(\"This is the Child Class\")\n",
    "        \n",
    "ob = Child()\n",
    "ob.func()\n",
    "# ob.func1()"
   ]
  },
  {
   "cell_type": "markdown",
   "metadata": {},
   "source": [
    "# Multiple Inheritance"
   ]
  },
  {
   "cell_type": "code",
   "execution_count": 19,
   "metadata": {},
   "outputs": [
    {
     "name": "stdout",
     "output_type": "stream",
     "text": [
      "This is parent class\n",
      "This is function 3\n"
     ]
    }
   ],
   "source": [
    "class Parent:\n",
    "    def func(self):\n",
    "        print(\"This is parent class\")\n",
    "        \n",
    "class Parent3:\n",
    "    def func3(self):\n",
    "        print('This is function 3')\n",
    "        \n",
    "class Child(Parent,Parent3):\n",
    "    def func1(self):\n",
    "        print(\"This is the Child Class\")\n",
    "        \n",
    "ob = Child()\n",
    "ob.func()\n",
    "# ob.func1()\n",
    "ob.func3()"
   ]
  },
  {
   "cell_type": "markdown",
   "metadata": {},
   "source": [
    "# Multilevel Inheritance"
   ]
  },
  {
   "cell_type": "code",
   "execution_count": 21,
   "metadata": {},
   "outputs": [
    {
     "name": "stdout",
     "output_type": "stream",
     "text": [
      "This is parent class\n",
      "This is function 3\n"
     ]
    }
   ],
   "source": [
    "class Parent:\n",
    "    def func(self):\n",
    "        print(\"This is parent class\")\n",
    "        \n",
    "class Parent2(Parent):\n",
    "    def func3(self):\n",
    "        print('This is function 3')\n",
    "        \n",
    "class Child(Parent2):\n",
    "    def func1(self):\n",
    "        print(\"This is the Child Class\")\n",
    "        \n",
    "ob = Child()\n",
    "ob.func()\n",
    "# ob.func1()\n",
    "ob.func3()"
   ]
  },
  {
   "cell_type": "markdown",
   "metadata": {},
   "source": [
    "# Hierarchical Inheritance"
   ]
  },
  {
   "cell_type": "code",
   "execution_count": 25,
   "metadata": {},
   "outputs": [
    {
     "name": "stdout",
     "output_type": "stream",
     "text": [
      "This is parent class\n",
      "This is function 3\n"
     ]
    }
   ],
   "source": [
    "class Parent:\n",
    "    def func(self):\n",
    "        print(\"This is parent class\")\n",
    "        \n",
    "class Parent2(Parent):\n",
    "    def func3(self):\n",
    "        print('This is function 3')\n",
    "        \n",
    "class Child(Parent):\n",
    "    def func1(self):\n",
    "        print(\"This is the Child Class\")\n",
    "        \n",
    "ob = Child()\n",
    "ob1 = Parent2()\n",
    "\n",
    "ob.func()\n",
    "\n",
    "ob1.func3()"
   ]
  },
  {
   "cell_type": "markdown",
   "metadata": {},
   "source": [
    "# Hybrid Inheritance"
   ]
  },
  {
   "cell_type": "code",
   "execution_count": 30,
   "metadata": {},
   "outputs": [
    {
     "name": "stdout",
     "output_type": "stream",
     "text": [
      "This is parent class\n",
      "This is Function 4\n"
     ]
    }
   ],
   "source": [
    "class Parent:\n",
    "    def func(self):\n",
    "        print(\"This is parent class\")\n",
    "        \n",
    "class Parent2(Parent):\n",
    "    def func3(self):\n",
    "        print('This is function 3')\n",
    "        \n",
    "class Parent3:\n",
    "    def func4(self):\n",
    "        print(\"This is Function 4\")\n",
    "        \n",
    "        \n",
    "class Child(Parent,Parent3):\n",
    "    def func1(self):\n",
    "        print(\"This is the Child Class\")\n",
    "        \n",
    "ob = Child()\n",
    "\n",
    "ob.func()\n",
    "\n",
    "ob.func4()"
   ]
  },
  {
   "cell_type": "markdown",
   "metadata": {},
   "source": [
    "    4.Super Function :-Super Function Directly calls the parents class Methode"
   ]
  },
  {
   "cell_type": "code",
   "execution_count": 34,
   "metadata": {},
   "outputs": [
    {
     "name": "stdout",
     "output_type": "stream",
     "text": [
      "This is the function 1\n",
      "This is the Function 2\n"
     ]
    }
   ],
   "source": [
    "class Parent:\n",
    "    def func1(self):\n",
    "        print('This is the function 1')\n",
    "        \n",
    "class Child(Parent):\n",
    "    def func2(self):\n",
    "        super().func1()\n",
    "        print('This is the Function 2')\n",
    "\n",
    "ob = Child()\n",
    "\n",
    "ob.func2()"
   ]
  },
  {
   "cell_type": "markdown",
   "metadata": {},
   "source": [
    "    5.Methode Overrinding :-Methode Overriding can be achived change functinality of parent class \n",
    "        same function name and same parameter"
   ]
  },
  {
   "cell_type": "code",
   "execution_count": 36,
   "metadata": {},
   "outputs": [
    {
     "name": "stdout",
     "output_type": "stream",
     "text": [
      "This is the Function 2\n"
     ]
    }
   ],
   "source": [
    "class Parent:\n",
    "    def func1(self):\n",
    "        print('This is the function 1')\n",
    "        \n",
    "class Child(Parent):\n",
    "    def func1(self):\n",
    "        print('This is the Function 2')\n",
    "\n",
    "ob = Child()\n",
    "\n",
    "ob.func1()"
   ]
  },
  {
   "cell_type": "code",
   "execution_count": null,
   "metadata": {},
   "outputs": [],
   "source": []
  }
 ],
 "metadata": {
  "kernelspec": {
   "display_name": "Python 3",
   "language": "python",
   "name": "python3"
  },
  "language_info": {
   "codemirror_mode": {
    "name": "ipython",
    "version": 3
   },
   "file_extension": ".py",
   "mimetype": "text/x-python",
   "name": "python",
   "nbconvert_exporter": "python",
   "pygments_lexer": "ipython3",
   "version": "3.7.4"
  }
 },
 "nbformat": 4,
 "nbformat_minor": 2
}

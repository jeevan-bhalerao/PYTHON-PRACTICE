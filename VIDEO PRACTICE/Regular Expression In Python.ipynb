{
 "cells": [
  {
   "cell_type": "markdown",
   "metadata": {},
   "source": [
    "# Agenda"
   ]
  },
  {
   "cell_type": "markdown",
   "metadata": {},
   "source": [
    "    1.Why we use Regular Expressions\n",
    "    2.What are the Regular Expression\n",
    "    3.Basic Regular Expression Operations\n",
    "    4.E-mail Verification Using Regular Expressions\n",
    "    5.Phone number verification Using Regular Expression\n",
    "    6.Web Scraping Using Regular Expression\n",
    "    "
   ]
  },
  {
   "cell_type": "markdown",
   "metadata": {},
   "source": [
    "# 1.Why we use Regular Expression\n",
    "        1.How to find the date and Time from the logfile\n",
    "          the format of log file is not understandable to every one \n",
    "          Use regular Expression to identify the pattern and get date and time\n",
    "        2.How to verify email address fake or not \n",
    "            use the regular expression to verify that format and get you know what email address are correct \n",
    "            and what are email address are fake           \n",
    "        3.How to verify the phone number and find the country to which it belongs\n",
    "            every phone number have perticular pattern or format so using regular expression we can identify \n",
    "            what are phone no are correct or Wrong \n",
    "        4.find the perticular string form the student data\n",
    "            if we have student with same area code and the area code have to updated if we want to update the area \n",
    "            code manually of each students it take lots of time\n",
    "            so we use regular expression and find out all area code of this student data base after that \n",
    "            you can replace it updated area code or pin\n",
    "            \n",
    "            "
   ]
  },
  {
   "cell_type": "markdown",
   "metadata": {},
   "source": [
    "# 2.What are Regular Expression"
   ]
  },
  {
   "cell_type": "markdown",
   "metadata": {},
   "source": [
    "    A Regular Expression is a special text string for describing a search pattern\n",
    "    Basically use regular Expression searching specific string from large order data\n",
    "    \n",
    "    NameAge= '''\n",
    "                Jeevan Is 26 and Sopan is 28 \n",
    "                    # here i want only name and age so identify that with the help of regular expression \n",
    "                    i can convert that into dictionary\n",
    "                \n",
    "                '''\n",
    "        {'Jeevan':'26','Sopan':'28'}#how do you  identify the pattern\n",
    "        # First letter of all the names is an uppercase letter Age is represnted by number "
   ]
  },
  {
   "cell_type": "code",
   "execution_count": 1,
   "metadata": {},
   "outputs": [
    {
     "name": "stdout",
     "output_type": "stream",
     "text": [
      "{'Jeevan': '26', 'Deepak': '28', 'Ranjana': '40'}\n"
     ]
    }
   ],
   "source": [
    "import re\n",
    "Nameage = '''\n",
    "        Jeevan is 26 and sopan is 28\n",
    "        Deepak is 40 and Ranjana is 36\n",
    "'''\n",
    "\n",
    "ages = re.findall(r'\\d{1,3}',Nameage)\n",
    "\n",
    "names = re.findall(r'[A-Z][a-z]*',Nameage)# here * Represent all of them\n",
    "\n",
    "ageDict = {}\n",
    "\n",
    "x = 0\n",
    "\n",
    "for eachname in names:\n",
    "    \n",
    "    ageDict[eachname] = ages[x]\n",
    "    \n",
    "    x+=1\n",
    "    \n",
    "print(ageDict)"
   ]
  },
  {
   "cell_type": "markdown",
   "metadata": {},
   "source": [
    "<img src = \"/Users/admin/Documents/PRACTICE OF PROGRAMING /Python Practice All /VIDEO PRACTICE/Screenshot 2020-04-10 at 11.46.04 PM\" width = \"650\" />"
   ]
  },
  {
   "cell_type": "markdown",
   "metadata": {},
   "source": [
    "    Both string and regular expression have their own cursor ..Refer above image "
   ]
  },
  {
   "cell_type": "markdown",
   "metadata": {},
   "source": [
    "# Regular Expression Operations\n",
    "    1.Find a word in string\n",
    "    2.Generate an Iterator\n",
    "    3.Match one of any od several letters\n",
    "    4.Match series of range of characters \n",
    "    5.Replace String\n",
    "    6.Match a single charecter\n",
    "    \n",
    "    "
   ]
  },
  {
   "cell_type": "markdown",
   "metadata": {},
   "source": [
    "# 1.Find word in string"
   ]
  },
  {
   "cell_type": "code",
   "execution_count": 2,
   "metadata": {},
   "outputs": [
    {
     "name": "stdout",
     "output_type": "stream",
     "text": [
      "inform is present in above string \n"
     ]
    }
   ],
   "source": [
    "import re\n",
    "if re.search(\"inform\",\"we need to inform him with latest information\"):\n",
    "    print(\"inform is present in above string \") "
   ]
  },
  {
   "cell_type": "code",
   "execution_count": 3,
   "metadata": {},
   "outputs": [
    {
     "name": "stdout",
     "output_type": "stream",
     "text": [
      "inform\n",
      "inform\n"
     ]
    }
   ],
   "source": [
    "allinform = re.findall(\"inform\",\"we need to inform him with latest information\")\n",
    "#Findall which return list of matches\n",
    "\n",
    "for i in allinform:\n",
    "    print(i)"
   ]
  },
  {
   "cell_type": "markdown",
   "metadata": {},
   "source": [
    "# 2.Generate an iterator\n",
    "    \n",
    "        Get the starting and ending ndex of a particular string\n",
    "        it return the starting index and ending index of matching object\n",
    "        \n",
    "        here below example \n",
    "        inform strat index is 11 and endindex is 17\n",
    "        and second inform start index is 38 and endindex is 44"
   ]
  },
  {
   "cell_type": "code",
   "execution_count": 4,
   "metadata": {},
   "outputs": [
    {
     "name": "stdout",
     "output_type": "stream",
     "text": [
      "(11, 17)\n",
      "(38, 44)\n"
     ]
    }
   ],
   "source": [
    "str = \"we need to inform him with the latest information\"\n",
    "for i in re.finditer('inform',str):\n",
    "    \n",
    "    loctup = i.span()# convert into tuple\n",
    "    \n",
    "    print(loctup)"
   ]
  },
  {
   "cell_type": "markdown",
   "metadata": {},
   "source": [
    "# 3.Match one of any of several Letters\n",
    "    Match word with a perticular pattern"
   ]
  },
  {
   "cell_type": "code",
   "execution_count": 5,
   "metadata": {},
   "outputs": [
    {
     "name": "stdout",
     "output_type": "stream",
     "text": [
      "Sat\n",
      "hat\n",
      "mat\n",
      "pat\n"
     ]
    }
   ],
   "source": [
    "str = \"Sat,hat,mat,pat\"\n",
    "\n",
    "allstr = re.findall(\"[Shmp]at\",str)\n",
    "for i in allstr:\n",
    "    print(i)"
   ]
  },
  {
   "cell_type": "markdown",
   "metadata": {},
   "source": [
    "# 4.Match series of range of charecter"
   ]
  },
  {
   "cell_type": "code",
   "execution_count": 6,
   "metadata": {},
   "outputs": [
    {
     "name": "stdout",
     "output_type": "stream",
     "text": [
      "hat\n",
      "mat\n"
     ]
    }
   ],
   "source": [
    "str = \"Sat,hat,mat,pat\"\n",
    "somestr = re.findall(\"[h-m]at\",str)\n",
    "for i in somestr:\n",
    "    print(i)\n",
    "    "
   ]
  },
  {
   "cell_type": "markdown",
   "metadata": {},
   "source": [
    "# 5.Replacing a string"
   ]
  },
  {
   "cell_type": "code",
   "execution_count": 7,
   "metadata": {},
   "outputs": [
    {
     "name": "stdout",
     "output_type": "stream",
     "text": [
      "hat,food,mat,pat\n"
     ]
    }
   ],
   "source": [
    "food = \"hat,rat,mat,pat\"\n",
    "regex = re.compile(\"[r]at\")\n",
    "food = regex.sub(\"food\",food)\n",
    "print(food)"
   ]
  },
  {
   "cell_type": "markdown",
   "metadata": {},
   "source": [
    "# 6.Match Single Charecter"
   ]
  },
  {
   "cell_type": "code",
   "execution_count": 17,
   "metadata": {},
   "outputs": [
    {
     "name": "stdout",
     "output_type": "stream",
     "text": [
      "\n",
      "Keep the blue flag\n",
      "flying high \n",
      "chelsea\n",
      "    \n",
      " Keep the blue flag flying high  chelsea     \n"
     ]
    }
   ],
   "source": [
    "randstr = '''\n",
    "Keep the blue flag\n",
    "flying high \n",
    "chelsea\n",
    "    '''\n",
    "\n",
    "print(randstr)\n",
    "\n",
    "regex = re.compile(\"\\n\")\n",
    "randstr = regex.sub(\" \",randstr)\n",
    "\n",
    "print(randstr)"
   ]
  },
  {
   "cell_type": "code",
   "execution_count": 9,
   "metadata": {},
   "outputs": [
    {
     "name": "stdout",
     "output_type": "stream",
     "text": [
      "Matches: 3\n"
     ]
    }
   ],
   "source": [
    "num = \"123,1234,12345,123456,1234567\"\n",
    "\n",
    "print(\"Matches:\",len(re.findall(\"\\d{5,7}\",num)))"
   ]
  },
  {
   "cell_type": "markdown",
   "metadata": {},
   "source": [
    "# 4 PHONE NUMBER VERIFICATION"
   ]
  },
  {
   "cell_type": "code",
   "execution_count": 20,
   "metadata": {},
   "outputs": [
    {
     "name": "stdout",
     "output_type": "stream",
     "text": [
      "It is the phone number\n"
     ]
    }
   ],
   "source": [
    "# \\w[a-zA-Z0-9_]\n",
    "# \\W [^a-zA-Z0-9]\n",
    "\n",
    "phn = \"412-555-1212\"\n",
    "# phn = \"412-5554-1212\"\n",
    "\n",
    "if re.search(\"\\w{3}-\\w{3}-\\w{4}\" ,phn):\n",
    "    print(\"It is the phone number\")\n"
   ]
  },
  {
   "cell_type": "code",
   "execution_count": 23,
   "metadata": {},
   "outputs": [
    {
     "name": "stdout",
     "output_type": "stream",
     "text": [
      " Full name \n"
     ]
    }
   ],
   "source": [
    "# \\s [\\f\\n\\r\\t\\v]\n",
    "# \\S [^\\f\\n\\r\\t\\v]\n",
    "\n",
    "if re.search(\"\\w{2,20}\\s\\w{2,20}\",\"Jeevan Bhalerao\"):\n",
    "    print(\" Full name \")"
   ]
  },
  {
   "cell_type": "markdown",
   "metadata": {},
   "source": [
    "# 5 Email Verification\n",
    "    jb@gmail.com"
   ]
  },
  {
   "cell_type": "code",
   "execution_count": 26,
   "metadata": {},
   "outputs": [
    {
     "name": "stdout",
     "output_type": "stream",
     "text": [
      "Email matches : 2\n"
     ]
    }
   ],
   "source": [
    "email = \"sk@aol.com,md@.com,@seo.comdc@.com,sk@aol\"\n",
    "\n",
    "print(\"Email matches :\",len(re.findall(\"[\\w._%+-]{1,20}@[\\w.-]{2,20}.[A-Za-z]{2,3}\",email)))\n"
   ]
  },
  {
   "cell_type": "markdown",
   "metadata": {},
   "source": [
    "# 6 Web Scrapping\n",
    "\n",
    "    Scrap all the hone numbers from a webpage using web scraping"
   ]
  },
  {
   "cell_type": "code",
   "execution_count": 28,
   "metadata": {},
   "outputs": [
    {
     "name": "stdout",
     "output_type": "stream",
     "text": [
      "(257) 563-7401\n",
      "(372) 587-2335\n",
      "(786) 713-8616\n",
      "(793) 151-6230\n",
      "(492) 709-6392\n",
      "(654) 393-5734\n",
      "(404) 960-3807\n",
      "(314) 244-6306\n",
      "(947) 278-5929\n",
      "(684) 579-1879\n",
      "(389) 737-2852\n",
      "(660) 663-4518\n",
      "(608) 265-2215\n",
      "(959) 119-8364\n",
      "(468) 353-2641\n",
      "(248) 675-4007\n",
      "(939) 353-1107\n",
      "(570) 873-7090\n",
      "(302) 259-2375\n",
      "(717) 450-4729\n",
      "(453) 391-4650\n",
      "(559) 104-5475\n",
      "(387) 142-9434\n",
      "(516) 745-4496\n",
      "(326) 677-3419\n",
      "(746) 679-2470\n",
      "(455) 430-0989\n",
      "(490) 936-4694\n",
      "(985) 834-8285\n",
      "(662) 661-1446\n",
      "(802) 668-8240\n",
      "(477) 768-9247\n",
      "(791) 239-9057\n",
      "(832) 109-0213\n",
      "(837) 196-3274\n",
      "(268) 442-2428\n",
      "(850) 676-5117\n",
      "(861) 546-5032\n",
      "(176) 805-4108\n",
      "(715) 912-6931\n",
      "(993) 554-0563\n",
      "(357) 616-5411\n",
      "(121) 347-0086\n",
      "(304) 506-6314\n",
      "(425) 288-2332\n",
      "(145) 987-4962\n",
      "(187) 582-9707\n",
      "(750) 558-3965\n",
      "(492) 467-3131\n",
      "(774) 914-2510\n",
      "(888) 106-8550\n",
      "(539) 567-3573\n",
      "(693) 337-2849\n",
      "(545) 604-9386\n",
      "(221) 156-5026\n",
      "(414) 876-0865\n",
      "(932) 726-8645\n",
      "(726) 710-9826\n",
      "(622) 594-1662\n",
      "(948) 600-8503\n",
      "(605) 900-7508\n",
      "(716) 977-5775\n",
      "(368) 239-8275\n",
      "(725) 342-0650\n",
      "(711) 993-5187\n",
      "(882) 399-5084\n",
      "(287) 755-9948\n",
      "(659) 551-3389\n",
      "(275) 730-6868\n",
      "(725) 757-4047\n",
      "(314) 882-1496\n",
      "(639) 360-7590\n",
      "(168) 222-1592\n",
      "(896) 303-1164\n",
      "(203) 982-6130\n",
      "(906) 217-1470\n",
      "(614) 514-1269\n",
      "(763) 409-5446\n",
      "(836) 292-5324\n",
      "(926) 709-3295\n",
      "(963) 356-9268\n",
      "(736) 522-8584\n",
      "(410) 483-0352\n",
      "(252) 204-1434\n",
      "(874) 886-4174\n",
      "(581) 379-7573\n",
      "(983) 632-8597\n",
      "(295) 983-3476\n",
      "(873) 392-8802\n",
      "(360) 669-3923\n",
      "(840) 987-9449\n",
      "(422) 517-6053\n",
      "(126) 940-2753\n",
      "(427) 930-5255\n",
      "(689) 721-5145\n",
      "(676) 334-2174\n",
      "(437) 994-5270\n",
      "(564) 908-6970\n",
      "(577) 333-6244\n",
      "(655) 840-6139\n"
     ]
    }
   ],
   "source": [
    "import urllib.request\n",
    "from re import findall\n",
    "\n",
    "url = \"http://www.summet.com/dmsi/html/codesamples/addresses.html\"\n",
    "\n",
    "response = urllib.request.urlopen(url)\n",
    "\n",
    "html = response.read()\n",
    "htmlStr = html.decode()\n",
    "\n",
    "pdata = findall(\"\\(\\d{3}\\) \\d{3}-\\d{4}\",htmlStr)\n",
    "\n",
    "for item in pdata:\n",
    "    print(item)"
   ]
  },
  {
   "cell_type": "code",
   "execution_count": null,
   "metadata": {},
   "outputs": [],
   "source": []
  }
 ],
 "metadata": {
  "kernelspec": {
   "display_name": "Python 3",
   "language": "python",
   "name": "python3"
  },
  "language_info": {
   "codemirror_mode": {
    "name": "ipython",
    "version": 3
   },
   "file_extension": ".py",
   "mimetype": "text/x-python",
   "name": "python",
   "nbconvert_exporter": "python",
   "pygments_lexer": "ipython3",
   "version": "3.7.4"
  }
 },
 "nbformat": 4,
 "nbformat_minor": 2
}
